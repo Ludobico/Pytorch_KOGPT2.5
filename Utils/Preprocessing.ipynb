{
 "cells": [
  {
   "cell_type": "code",
   "execution_count": 25,
   "metadata": {},
   "outputs": [],
   "source": [
    "import os\n",
    "import pandas as pd\n",
    "import numpy as np\n",
    "import json"
   ]
  },
  {
   "cell_type": "code",
   "execution_count": 26,
   "metadata": {},
   "outputs": [],
   "source": [
    "cur_path = os.path.abspath(os.path.curdir)\n",
    "parent_path = os.path.join(cur_path, '..')\n",
    "data_path = os.path.join(parent_path, 'data')\n",
    "facebook_path = os.path.join(data_path, 'FACEBOOK')\n"
   ]
  },
  {
   "cell_type": "code",
   "execution_count": 27,
   "metadata": {},
   "outputs": [
    {
     "name": "stdout",
     "output_type": "stream",
     "text": [
      "8002\n",
      "c:\\Users\\aqs45\\OneDrive\\바탕 화면\\repo\\Transformers\\Utils\\..\\data\\FACEBOOK\\FACEBOOK_101_01.json\n"
     ]
    }
   ],
   "source": [
    "json_file_list = os.listdir(facebook_path)\n",
    "print(len(json_file_list))\n",
    "facebook_data_path = os.path.join(facebook_path, json_file_list[0])\n",
    "print(facebook_data_path)"
   ]
  },
  {
   "cell_type": "code",
   "execution_count": 35,
   "metadata": {},
   "outputs": [],
   "source": [
    "with open(facebook_data_path, 'r', encoding='UTF-8') as j:\n",
    "    contents = json.loads(j.read())"
   ]
  },
  {
   "cell_type": "code",
   "execution_count": 48,
   "metadata": {},
   "outputs": [
    {
     "data": {
      "text/plain": [
       "dict_keys(['dataset', 'licenses', 'info'])"
      ]
     },
     "execution_count": 48,
     "metadata": {},
     "output_type": "execute_result"
    }
   ],
   "source": [
    "contents.keys()"
   ]
  },
  {
   "cell_type": "code",
   "execution_count": 53,
   "metadata": {},
   "outputs": [
    {
     "data": {
      "text/plain": [
       "dict_keys(['id', 'filename', 'title', 'mediatype', 'medianame', 'category', 'date', 'size', 'annotations'])"
      ]
     },
     "execution_count": 53,
     "metadata": {},
     "output_type": "execute_result"
    }
   ],
   "source": [
    "contents['info'][0].keys()"
   ]
  },
  {
   "cell_type": "code",
   "execution_count": 74,
   "metadata": {},
   "outputs": [
    {
     "data": {
      "text/plain": [
       "{'id': 1,\n",
       " 'text': '1 : 언니 명랑 핫도그 먹어 봤어?',\n",
       " 'norm_text': '언니 명랑 핫도그 먹어 봤어?',\n",
       " 'speaker': {'id': '1번', 'sex': '여성', 'age': '20대'},\n",
       " 'speechAct': '(지시) 질문하기',\n",
       " 'morpheme': '언니/NNG+명랑/NNG+핫도그/NNG+먹/VV+어/EC+봤/VX+EP+어/EF'}"
      ]
     },
     "execution_count": 74,
     "metadata": {},
     "output_type": "execute_result"
    }
   ],
   "source": [
    "contents['info'][0]['annotations']['lines'][0]\n"
   ]
  },
  {
   "cell_type": "code",
   "execution_count": 71,
   "metadata": {},
   "outputs": [
    {
     "name": "stdout",
     "output_type": "stream",
     "text": [
      "24\n"
     ]
    }
   ],
   "source": [
    "print(len(contents['info'][0]['annotations']['lines']))\n"
   ]
  },
  {
   "cell_type": "code",
   "execution_count": 78,
   "metadata": {},
   "outputs": [
    {
     "name": "stdout",
     "output_type": "stream",
     "text": [
      "1\n",
      "언니 명랑 핫도그 먹어 봤어?\n",
      "여성\n",
      "20대\n",
      "2\n",
      "웅 먹은 지 한참 됐어\n",
      "여성\n",
      "20대\n",
      "3\n",
      "나 오늘 먹었는데 진짜 존맛 ㅜ\n",
      "여성\n",
      "20대\n",
      "4\n",
      "나도 오랜만에 먹고 싶다\n",
      "여성\n",
      "20대\n",
      "5\n",
      "어디서?\n",
      "여성\n",
      "20대\n",
      "6\n",
      "나 포장해 와서 집에서 먹었음!\n",
      "여성\n",
      "20대\n",
      "7\n",
      "누구랑 먹었어\n",
      "여성\n",
      "20대\n",
      "8\n",
      "일 안 했어?\n",
      "여성\n",
      "20대\n",
      "9\n",
      "나 퇴근하고 포장해 왔지!\n",
      "여성\n",
      "20대\n",
      "10\n",
      "키키 요새 없어진 거 같던데 나도 찾아봐야지\n",
      "여성\n",
      "20대\n",
      "11\n",
      "키키 아 진짜?\n",
      "여성\n",
      "20대\n",
      "12\n",
      "언니 지금 논산에 있나?\n",
      "여성\n",
      "20대\n",
      "13\n",
      "아니\n",
      "여성\n",
      "20대\n",
      "14\n",
      "나 대전 온 지 한참이야 ㅡㅡ!\n",
      "여성\n",
      "20대\n",
      "15\n",
      "대전에는 명량핫도그 집 많지 않아?\n",
      "여성\n",
      "20대\n",
      "16\n",
      "근데 요새 좀 없어지는 추세 아니었음 ?\n",
      "여성\n",
      "20대\n",
      "17\n",
      "키키 아 진짜?\n",
      "여성\n",
      "20대\n",
      "18\n",
      "여기 지금 떡볶이 출시했잖아 난리야!\n",
      "여성\n",
      "20대\n",
      "19\n",
      "떡볶이도 한다고 ?\n",
      "여성\n",
      "20대\n",
      "20\n",
      "떡볶이도 먹음?\n",
      "여성\n",
      "20대\n",
      "21\n",
      "아니\n",
      "여성\n",
      "20대\n",
      "22\n",
      "떡볶이는 역시 엽떡이지~\n",
      "여성\n",
      "20대\n",
      "23\n",
      "키키 나도 먹어봐야지\n",
      "여성\n",
      "20대\n",
      "24\n",
      "나 씻고 온다\n",
      "여성\n",
      "20대\n"
     ]
    }
   ],
   "source": [
    "for i in range(len(contents['info'][0]['annotations']['lines'])):\n",
    "    print(contents['info'][0]['annotations']['lines'][i]['id'])\n",
    "    print(contents['info'][0]['annotations']['lines'][i]['norm_text'])\n",
    "    print(contents['info'][0]['annotations']['lines'][i]['speaker']['sex'])\n",
    "    print(contents['info'][0]['annotations']['lines'][i]['speaker']['age'])\n"
   ]
  },
  {
   "cell_type": "code",
   "execution_count": 85,
   "metadata": {},
   "outputs": [
    {
     "data": {
      "text/html": [
       "<div>\n",
       "<style scoped>\n",
       "    .dataframe tbody tr th:only-of-type {\n",
       "        vertical-align: middle;\n",
       "    }\n",
       "\n",
       "    .dataframe tbody tr th {\n",
       "        vertical-align: top;\n",
       "    }\n",
       "\n",
       "    .dataframe thead th {\n",
       "        text-align: right;\n",
       "    }\n",
       "</style>\n",
       "<table border=\"1\" class=\"dataframe\">\n",
       "  <thead>\n",
       "    <tr style=\"text-align: right;\">\n",
       "      <th></th>\n",
       "      <th>id</th>\n",
       "      <th>text</th>\n",
       "      <th>sex</th>\n",
       "      <th>age</th>\n",
       "      <th>class</th>\n",
       "    </tr>\n",
       "  </thead>\n",
       "  <tbody>\n",
       "    <tr>\n",
       "      <th>0</th>\n",
       "      <td>1</td>\n",
       "      <td>언니 명랑 핫도그 먹어 봤어?</td>\n",
       "      <td>여성</td>\n",
       "      <td>20대</td>\n",
       "      <td>1번</td>\n",
       "    </tr>\n",
       "    <tr>\n",
       "      <th>1</th>\n",
       "      <td>2</td>\n",
       "      <td>웅 먹은 지 한참 됐어</td>\n",
       "      <td>여성</td>\n",
       "      <td>20대</td>\n",
       "      <td>2번</td>\n",
       "    </tr>\n",
       "    <tr>\n",
       "      <th>2</th>\n",
       "      <td>3</td>\n",
       "      <td>나 오늘 먹었는데 진짜 존맛 ㅜ</td>\n",
       "      <td>여성</td>\n",
       "      <td>20대</td>\n",
       "      <td>1번</td>\n",
       "    </tr>\n",
       "    <tr>\n",
       "      <th>3</th>\n",
       "      <td>4</td>\n",
       "      <td>나도 오랜만에 먹고 싶다</td>\n",
       "      <td>여성</td>\n",
       "      <td>20대</td>\n",
       "      <td>2번</td>\n",
       "    </tr>\n",
       "    <tr>\n",
       "      <th>4</th>\n",
       "      <td>5</td>\n",
       "      <td>어디서?</td>\n",
       "      <td>여성</td>\n",
       "      <td>20대</td>\n",
       "      <td>2번</td>\n",
       "    </tr>\n",
       "    <tr>\n",
       "      <th>5</th>\n",
       "      <td>6</td>\n",
       "      <td>나 포장해 와서 집에서 먹었음!</td>\n",
       "      <td>여성</td>\n",
       "      <td>20대</td>\n",
       "      <td>1번</td>\n",
       "    </tr>\n",
       "    <tr>\n",
       "      <th>6</th>\n",
       "      <td>7</td>\n",
       "      <td>누구랑 먹었어</td>\n",
       "      <td>여성</td>\n",
       "      <td>20대</td>\n",
       "      <td>2번</td>\n",
       "    </tr>\n",
       "    <tr>\n",
       "      <th>7</th>\n",
       "      <td>8</td>\n",
       "      <td>일 안 했어?</td>\n",
       "      <td>여성</td>\n",
       "      <td>20대</td>\n",
       "      <td>2번</td>\n",
       "    </tr>\n",
       "    <tr>\n",
       "      <th>8</th>\n",
       "      <td>9</td>\n",
       "      <td>나 퇴근하고 포장해 왔지!</td>\n",
       "      <td>여성</td>\n",
       "      <td>20대</td>\n",
       "      <td>1번</td>\n",
       "    </tr>\n",
       "    <tr>\n",
       "      <th>9</th>\n",
       "      <td>10</td>\n",
       "      <td>키키 요새 없어진 거 같던데 나도 찾아봐야지</td>\n",
       "      <td>여성</td>\n",
       "      <td>20대</td>\n",
       "      <td>2번</td>\n",
       "    </tr>\n",
       "    <tr>\n",
       "      <th>10</th>\n",
       "      <td>11</td>\n",
       "      <td>키키 아 진짜?</td>\n",
       "      <td>여성</td>\n",
       "      <td>20대</td>\n",
       "      <td>1번</td>\n",
       "    </tr>\n",
       "    <tr>\n",
       "      <th>11</th>\n",
       "      <td>12</td>\n",
       "      <td>언니 지금 논산에 있나?</td>\n",
       "      <td>여성</td>\n",
       "      <td>20대</td>\n",
       "      <td>1번</td>\n",
       "    </tr>\n",
       "    <tr>\n",
       "      <th>12</th>\n",
       "      <td>13</td>\n",
       "      <td>아니</td>\n",
       "      <td>여성</td>\n",
       "      <td>20대</td>\n",
       "      <td>2번</td>\n",
       "    </tr>\n",
       "    <tr>\n",
       "      <th>13</th>\n",
       "      <td>14</td>\n",
       "      <td>나 대전 온 지 한참이야 ㅡㅡ!</td>\n",
       "      <td>여성</td>\n",
       "      <td>20대</td>\n",
       "      <td>2번</td>\n",
       "    </tr>\n",
       "    <tr>\n",
       "      <th>14</th>\n",
       "      <td>15</td>\n",
       "      <td>대전에는 명량핫도그 집 많지 않아?</td>\n",
       "      <td>여성</td>\n",
       "      <td>20대</td>\n",
       "      <td>1번</td>\n",
       "    </tr>\n",
       "    <tr>\n",
       "      <th>15</th>\n",
       "      <td>16</td>\n",
       "      <td>근데 요새 좀 없어지는 추세 아니었음 ?</td>\n",
       "      <td>여성</td>\n",
       "      <td>20대</td>\n",
       "      <td>2번</td>\n",
       "    </tr>\n",
       "    <tr>\n",
       "      <th>16</th>\n",
       "      <td>17</td>\n",
       "      <td>키키 아 진짜?</td>\n",
       "      <td>여성</td>\n",
       "      <td>20대</td>\n",
       "      <td>1번</td>\n",
       "    </tr>\n",
       "    <tr>\n",
       "      <th>17</th>\n",
       "      <td>18</td>\n",
       "      <td>여기 지금 떡볶이 출시했잖아 난리야!</td>\n",
       "      <td>여성</td>\n",
       "      <td>20대</td>\n",
       "      <td>1번</td>\n",
       "    </tr>\n",
       "    <tr>\n",
       "      <th>18</th>\n",
       "      <td>19</td>\n",
       "      <td>떡볶이도 한다고 ?</td>\n",
       "      <td>여성</td>\n",
       "      <td>20대</td>\n",
       "      <td>2번</td>\n",
       "    </tr>\n",
       "    <tr>\n",
       "      <th>19</th>\n",
       "      <td>20</td>\n",
       "      <td>떡볶이도 먹음?</td>\n",
       "      <td>여성</td>\n",
       "      <td>20대</td>\n",
       "      <td>2번</td>\n",
       "    </tr>\n",
       "    <tr>\n",
       "      <th>20</th>\n",
       "      <td>21</td>\n",
       "      <td>아니</td>\n",
       "      <td>여성</td>\n",
       "      <td>20대</td>\n",
       "      <td>1번</td>\n",
       "    </tr>\n",
       "    <tr>\n",
       "      <th>21</th>\n",
       "      <td>22</td>\n",
       "      <td>떡볶이는 역시 엽떡이지~</td>\n",
       "      <td>여성</td>\n",
       "      <td>20대</td>\n",
       "      <td>1번</td>\n",
       "    </tr>\n",
       "    <tr>\n",
       "      <th>22</th>\n",
       "      <td>23</td>\n",
       "      <td>키키 나도 먹어봐야지</td>\n",
       "      <td>여성</td>\n",
       "      <td>20대</td>\n",
       "      <td>2번</td>\n",
       "    </tr>\n",
       "    <tr>\n",
       "      <th>23</th>\n",
       "      <td>24</td>\n",
       "      <td>나 씻고 온다</td>\n",
       "      <td>여성</td>\n",
       "      <td>20대</td>\n",
       "      <td>2번</td>\n",
       "    </tr>\n",
       "  </tbody>\n",
       "</table>\n",
       "</div>"
      ],
      "text/plain": [
       "    id                      text sex  age class\n",
       "0    1          언니 명랑 핫도그 먹어 봤어?  여성  20대    1번\n",
       "1    2              웅 먹은 지 한참 됐어  여성  20대    2번\n",
       "2    3         나 오늘 먹었는데 진짜 존맛 ㅜ  여성  20대    1번\n",
       "3    4             나도 오랜만에 먹고 싶다  여성  20대    2번\n",
       "4    5                      어디서?  여성  20대    2번\n",
       "5    6         나 포장해 와서 집에서 먹었음!  여성  20대    1번\n",
       "6    7                   누구랑 먹었어  여성  20대    2번\n",
       "7    8                   일 안 했어?  여성  20대    2번\n",
       "8    9            나 퇴근하고 포장해 왔지!  여성  20대    1번\n",
       "9   10  키키 요새 없어진 거 같던데 나도 찾아봐야지  여성  20대    2번\n",
       "10  11                  키키 아 진짜?  여성  20대    1번\n",
       "11  12             언니 지금 논산에 있나?  여성  20대    1번\n",
       "12  13                        아니  여성  20대    2번\n",
       "13  14         나 대전 온 지 한참이야 ㅡㅡ!  여성  20대    2번\n",
       "14  15       대전에는 명량핫도그 집 많지 않아?  여성  20대    1번\n",
       "15  16    근데 요새 좀 없어지는 추세 아니었음 ?  여성  20대    2번\n",
       "16  17                  키키 아 진짜?  여성  20대    1번\n",
       "17  18      여기 지금 떡볶이 출시했잖아 난리야!  여성  20대    1번\n",
       "18  19                떡볶이도 한다고 ?  여성  20대    2번\n",
       "19  20                  떡볶이도 먹음?  여성  20대    2번\n",
       "20  21                        아니  여성  20대    1번\n",
       "21  22             떡볶이는 역시 엽떡이지~  여성  20대    1번\n",
       "22  23               키키 나도 먹어봐야지  여성  20대    2번\n",
       "23  24                   나 씻고 온다  여성  20대    2번"
      ]
     },
     "execution_count": 85,
     "metadata": {},
     "output_type": "execute_result"
    }
   ],
   "source": [
    "data = []\n",
    "for i in range(len(contents['info'][0]['annotations']['lines'])):\n",
    "    data.append({'id': contents['info'][0]['annotations']['lines'][i]['id'],\n",
    "                'text': contents['info'][0]['annotations']['lines'][i]['norm_text'],\n",
    "                 'sex': contents['info'][0]['annotations']['lines'][i]['speaker']['sex'],\n",
    "                  'age': contents['info'][0]['annotations']['lines'][i]['speaker']['age'],\n",
    "                  'class': contents['info'][0]['annotations']['lines'][i]['speaker']['id']})\n",
    "df = pd.DataFrame(data)\n",
    "df"
   ]
  },
  {
   "cell_type": "code",
   "execution_count": 90,
   "metadata": {},
   "outputs": [
    {
     "ename": "ValueError",
     "evalue": "Length of values (2) does not match length of index (24)",
     "output_type": "error",
     "traceback": [
      "\u001b[1;31m---------------------------------------------------------------------------\u001b[0m",
      "\u001b[1;31mValueError\u001b[0m                                Traceback (most recent call last)",
      "Cell \u001b[1;32mIn[90], line 1\u001b[0m\n\u001b[1;32m----> 1\u001b[0m df[\u001b[39m'\u001b[39;49m\u001b[39mrequest\u001b[39;49m\u001b[39m'\u001b[39;49m] \u001b[39m=\u001b[39m (df[\u001b[39m'\u001b[39m\u001b[39mclass\u001b[39m\u001b[39m'\u001b[39m] \u001b[39m==\u001b[39m \u001b[39m'\u001b[39m\u001b[39m1번\u001b[39m\u001b[39m'\u001b[39m, df[\u001b[39m'\u001b[39m\u001b[39mtext\u001b[39m\u001b[39m'\u001b[39m])\n\u001b[0;32m      2\u001b[0m df[\u001b[39m'\u001b[39m\u001b[39mresponse\u001b[39m\u001b[39m'\u001b[39m] \u001b[39m=\u001b[39m (df[\u001b[39m'\u001b[39m\u001b[39mclass\u001b[39m\u001b[39m'\u001b[39m] \u001b[39m==\u001b[39m \u001b[39m'\u001b[39m\u001b[39m2번\u001b[39m\u001b[39m'\u001b[39m, df[\u001b[39m'\u001b[39m\u001b[39mtext\u001b[39m\u001b[39m'\u001b[39m])\n\u001b[0;32m      4\u001b[0m df \u001b[39m=\u001b[39m df\u001b[39m.\u001b[39mreindex(columns\u001b[39m=\u001b[39m[\u001b[39m'\u001b[39m\u001b[39mrequest\u001b[39m\u001b[39m'\u001b[39m,\u001b[39m'\u001b[39m\u001b[39mresponse\u001b[39m\u001b[39m'\u001b[39m])\n",
      "File \u001b[1;32mc:\\Users\\aqs45\\OneDrive\\바탕 화면\\repo\\Transformers\\venv\\lib\\site-packages\\pandas\\core\\frame.py:3980\u001b[0m, in \u001b[0;36mDataFrame.__setitem__\u001b[1;34m(self, key, value)\u001b[0m\n\u001b[0;32m   3977\u001b[0m     \u001b[39mself\u001b[39m\u001b[39m.\u001b[39m_setitem_array([key], value)\n\u001b[0;32m   3978\u001b[0m \u001b[39melse\u001b[39;00m:\n\u001b[0;32m   3979\u001b[0m     \u001b[39m# set column\u001b[39;00m\n\u001b[1;32m-> 3980\u001b[0m     \u001b[39mself\u001b[39;49m\u001b[39m.\u001b[39;49m_set_item(key, value)\n",
      "File \u001b[1;32mc:\\Users\\aqs45\\OneDrive\\바탕 화면\\repo\\Transformers\\venv\\lib\\site-packages\\pandas\\core\\frame.py:4174\u001b[0m, in \u001b[0;36mDataFrame._set_item\u001b[1;34m(self, key, value)\u001b[0m\n\u001b[0;32m   4164\u001b[0m \u001b[39mdef\u001b[39;00m \u001b[39m_set_item\u001b[39m(\u001b[39mself\u001b[39m, key, value) \u001b[39m-\u001b[39m\u001b[39m>\u001b[39m \u001b[39mNone\u001b[39;00m:\n\u001b[0;32m   4165\u001b[0m \u001b[39m    \u001b[39m\u001b[39m\"\"\"\u001b[39;00m\n\u001b[0;32m   4166\u001b[0m \u001b[39m    Add series to DataFrame in specified column.\u001b[39;00m\n\u001b[0;32m   4167\u001b[0m \n\u001b[1;32m   (...)\u001b[0m\n\u001b[0;32m   4172\u001b[0m \u001b[39m    ensure homogeneity.\u001b[39;00m\n\u001b[0;32m   4173\u001b[0m \u001b[39m    \"\"\"\u001b[39;00m\n\u001b[1;32m-> 4174\u001b[0m     value \u001b[39m=\u001b[39m \u001b[39mself\u001b[39;49m\u001b[39m.\u001b[39;49m_sanitize_column(value)\n\u001b[0;32m   4176\u001b[0m     \u001b[39mif\u001b[39;00m (\n\u001b[0;32m   4177\u001b[0m         key \u001b[39min\u001b[39;00m \u001b[39mself\u001b[39m\u001b[39m.\u001b[39mcolumns\n\u001b[0;32m   4178\u001b[0m         \u001b[39mand\u001b[39;00m value\u001b[39m.\u001b[39mndim \u001b[39m==\u001b[39m \u001b[39m1\u001b[39m\n\u001b[0;32m   4179\u001b[0m         \u001b[39mand\u001b[39;00m \u001b[39mnot\u001b[39;00m is_extension_array_dtype(value)\n\u001b[0;32m   4180\u001b[0m     ):\n\u001b[0;32m   4181\u001b[0m         \u001b[39m# broadcast across multiple columns if necessary\u001b[39;00m\n\u001b[0;32m   4182\u001b[0m         \u001b[39mif\u001b[39;00m \u001b[39mnot\u001b[39;00m \u001b[39mself\u001b[39m\u001b[39m.\u001b[39mcolumns\u001b[39m.\u001b[39mis_unique \u001b[39mor\u001b[39;00m \u001b[39misinstance\u001b[39m(\u001b[39mself\u001b[39m\u001b[39m.\u001b[39mcolumns, MultiIndex):\n",
      "File \u001b[1;32mc:\\Users\\aqs45\\OneDrive\\바탕 화면\\repo\\Transformers\\venv\\lib\\site-packages\\pandas\\core\\frame.py:4915\u001b[0m, in \u001b[0;36mDataFrame._sanitize_column\u001b[1;34m(self, value)\u001b[0m\n\u001b[0;32m   4912\u001b[0m     \u001b[39mreturn\u001b[39;00m _reindex_for_setitem(Series(value), \u001b[39mself\u001b[39m\u001b[39m.\u001b[39mindex)\n\u001b[0;32m   4914\u001b[0m \u001b[39mif\u001b[39;00m is_list_like(value):\n\u001b[1;32m-> 4915\u001b[0m     com\u001b[39m.\u001b[39;49mrequire_length_match(value, \u001b[39mself\u001b[39;49m\u001b[39m.\u001b[39;49mindex)\n\u001b[0;32m   4916\u001b[0m \u001b[39mreturn\u001b[39;00m sanitize_array(value, \u001b[39mself\u001b[39m\u001b[39m.\u001b[39mindex, copy\u001b[39m=\u001b[39m\u001b[39mTrue\u001b[39;00m, allow_2d\u001b[39m=\u001b[39m\u001b[39mTrue\u001b[39;00m)\n",
      "File \u001b[1;32mc:\\Users\\aqs45\\OneDrive\\바탕 화면\\repo\\Transformers\\venv\\lib\\site-packages\\pandas\\core\\common.py:571\u001b[0m, in \u001b[0;36mrequire_length_match\u001b[1;34m(data, index)\u001b[0m\n\u001b[0;32m    567\u001b[0m \u001b[39m\u001b[39m\u001b[39m\"\"\"\u001b[39;00m\n\u001b[0;32m    568\u001b[0m \u001b[39mCheck the length of data matches the length of the index.\u001b[39;00m\n\u001b[0;32m    569\u001b[0m \u001b[39m\"\"\"\u001b[39;00m\n\u001b[0;32m    570\u001b[0m \u001b[39mif\u001b[39;00m \u001b[39mlen\u001b[39m(data) \u001b[39m!=\u001b[39m \u001b[39mlen\u001b[39m(index):\n\u001b[1;32m--> 571\u001b[0m     \u001b[39mraise\u001b[39;00m \u001b[39mValueError\u001b[39;00m(\n\u001b[0;32m    572\u001b[0m         \u001b[39m\"\u001b[39m\u001b[39mLength of values \u001b[39m\u001b[39m\"\u001b[39m\n\u001b[0;32m    573\u001b[0m         \u001b[39mf\u001b[39m\u001b[39m\"\u001b[39m\u001b[39m(\u001b[39m\u001b[39m{\u001b[39;00m\u001b[39mlen\u001b[39m(data)\u001b[39m}\u001b[39;00m\u001b[39m) \u001b[39m\u001b[39m\"\u001b[39m\n\u001b[0;32m    574\u001b[0m         \u001b[39m\"\u001b[39m\u001b[39mdoes not match length of index \u001b[39m\u001b[39m\"\u001b[39m\n\u001b[0;32m    575\u001b[0m         \u001b[39mf\u001b[39m\u001b[39m\"\u001b[39m\u001b[39m(\u001b[39m\u001b[39m{\u001b[39;00m\u001b[39mlen\u001b[39m(index)\u001b[39m}\u001b[39;00m\u001b[39m)\u001b[39m\u001b[39m\"\u001b[39m\n\u001b[0;32m    576\u001b[0m     )\n",
      "\u001b[1;31mValueError\u001b[0m: Length of values (2) does not match length of index (24)"
     ]
    }
   ],
   "source": [
    "df['request'] = np.where(df['class'] == '1번', df['text'])\n",
    "df['response'] = np.where(df['class'] == '2번', df['text'])"
   ]
  },
  {
   "cell_type": "code",
   "execution_count": null,
   "metadata": {},
   "outputs": [],
   "source": []
  }
 ],
 "metadata": {
  "kernelspec": {
   "display_name": "venv",
   "language": "python",
   "name": "python3"
  },
  "language_info": {
   "codemirror_mode": {
    "name": "ipython",
    "version": 3
   },
   "file_extension": ".py",
   "mimetype": "text/x-python",
   "name": "python",
   "nbconvert_exporter": "python",
   "pygments_lexer": "ipython3",
   "version": "3.9.13"
  },
  "orig_nbformat": 4,
  "vscode": {
   "interpreter": {
    "hash": "7409877075998b40c7f75e9adac75e1ccf121f4a98cd2e57d4ea6d51ec765852"
   }
  }
 },
 "nbformat": 4,
 "nbformat_minor": 2
}
