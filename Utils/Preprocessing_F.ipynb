{
 "cells": [
  {
   "cell_type": "code",
   "execution_count": 1,
   "metadata": {},
   "outputs": [],
   "source": [
    "import os\n",
    "import pandas as pd\n",
    "import numpy as np\n",
    "import json"
   ]
  },
  {
   "cell_type": "code",
   "execution_count": 2,
   "metadata": {},
   "outputs": [],
   "source": [
    "cur_path = os.path.abspath(os.path.curdir)\n",
    "parent_path = os.path.join(cur_path, '..')\n",
    "data_path = os.path.join(parent_path, 'data')\n",
    "facebook_path = os.path.join(data_path, 'FACEBOOK')"
   ]
  },
  {
   "cell_type": "code",
   "execution_count": 3,
   "metadata": {},
   "outputs": [
    {
     "name": "stdout",
     "output_type": "stream",
     "text": [
      "8002\n"
     ]
    }
   ],
   "source": [
    "json_file_list = os.listdir(facebook_path)\n",
    "print(len(json_file_list))\n",
    "# facebook_data_path = os.path.join(facebook_path, json_file_list[0])\n",
    "# print(facebook_data_path)"
   ]
  },
  {
   "cell_type": "code",
   "execution_count": 4,
   "metadata": {},
   "outputs": [
    {
     "data": {
      "text/html": [
       "<div>\n",
       "<style scoped>\n",
       "    .dataframe tbody tr th:only-of-type {\n",
       "        vertical-align: middle;\n",
       "    }\n",
       "\n",
       "    .dataframe tbody tr th {\n",
       "        vertical-align: top;\n",
       "    }\n",
       "\n",
       "    .dataframe thead th {\n",
       "        text-align: right;\n",
       "    }\n",
       "</style>\n",
       "<table border=\"1\" class=\"dataframe\">\n",
       "  <thead>\n",
       "    <tr style=\"text-align: right;\">\n",
       "      <th></th>\n",
       "      <th>id</th>\n",
       "      <th>text</th>\n",
       "      <th>sex</th>\n",
       "      <th>age</th>\n",
       "      <th>class</th>\n",
       "    </tr>\n",
       "  </thead>\n",
       "  <tbody>\n",
       "    <tr>\n",
       "      <th>0</th>\n",
       "      <td>1</td>\n",
       "      <td>언니 명랑 핫도그 먹어 봤어?</td>\n",
       "      <td>여성</td>\n",
       "      <td>20대</td>\n",
       "      <td>1번</td>\n",
       "    </tr>\n",
       "    <tr>\n",
       "      <th>1</th>\n",
       "      <td>2</td>\n",
       "      <td>웅 먹은 지 한참 됐어</td>\n",
       "      <td>여성</td>\n",
       "      <td>20대</td>\n",
       "      <td>2번</td>\n",
       "    </tr>\n",
       "    <tr>\n",
       "      <th>2</th>\n",
       "      <td>3</td>\n",
       "      <td>나 오늘 먹었는데 진짜 존맛 ㅜ</td>\n",
       "      <td>여성</td>\n",
       "      <td>20대</td>\n",
       "      <td>1번</td>\n",
       "    </tr>\n",
       "    <tr>\n",
       "      <th>3</th>\n",
       "      <td>4</td>\n",
       "      <td>나도 오랜만에 먹고 싶다</td>\n",
       "      <td>여성</td>\n",
       "      <td>20대</td>\n",
       "      <td>2번</td>\n",
       "    </tr>\n",
       "    <tr>\n",
       "      <th>4</th>\n",
       "      <td>5</td>\n",
       "      <td>어디서?</td>\n",
       "      <td>여성</td>\n",
       "      <td>20대</td>\n",
       "      <td>2번</td>\n",
       "    </tr>\n",
       "    <tr>\n",
       "      <th>...</th>\n",
       "      <td>...</td>\n",
       "      <td>...</td>\n",
       "      <td>...</td>\n",
       "      <td>...</td>\n",
       "      <td>...</td>\n",
       "    </tr>\n",
       "    <tr>\n",
       "      <th>127160</th>\n",
       "      <td>8</td>\n",
       "      <td>나두 피부샵 가서 전신마사지 받고 싶어</td>\n",
       "      <td>여성</td>\n",
       "      <td>30대</td>\n",
       "      <td>2번</td>\n",
       "    </tr>\n",
       "    <tr>\n",
       "      <th>127161</th>\n",
       "      <td>9</td>\n",
       "      <td>요즘은 조금씩 보톡스 잘 맞더라</td>\n",
       "      <td>여성</td>\n",
       "      <td>40대</td>\n",
       "      <td>3번</td>\n",
       "    </tr>\n",
       "    <tr>\n",
       "      <th>127162</th>\n",
       "      <td>10</td>\n",
       "      <td>지금부터라도 관리해야 오십되어서 후회 안 하겠지</td>\n",
       "      <td>여성</td>\n",
       "      <td>40대</td>\n",
       "      <td>1번</td>\n",
       "    </tr>\n",
       "    <tr>\n",
       "      <th>127163</th>\n",
       "      <td>11</td>\n",
       "      <td>얼마전에 개원한 곳에서 보톡스 세일 전단지 봤어</td>\n",
       "      <td>여성</td>\n",
       "      <td>30대</td>\n",
       "      <td>2번</td>\n",
       "    </tr>\n",
       "    <tr>\n",
       "      <th>127164</th>\n",
       "      <td>12</td>\n",
       "      <td>천리 길도 한 걸음부터 꾸준히 해야겠지 뭐든</td>\n",
       "      <td>여성</td>\n",
       "      <td>40대</td>\n",
       "      <td>3번</td>\n",
       "    </tr>\n",
       "  </tbody>\n",
       "</table>\n",
       "<p>127165 rows × 5 columns</p>\n",
       "</div>"
      ],
      "text/plain": [
       "        id                        text sex  age class\n",
       "0        1            언니 명랑 핫도그 먹어 봤어?  여성  20대    1번\n",
       "1        2                웅 먹은 지 한참 됐어  여성  20대    2번\n",
       "2        3           나 오늘 먹었는데 진짜 존맛 ㅜ  여성  20대    1번\n",
       "3        4               나도 오랜만에 먹고 싶다  여성  20대    2번\n",
       "4        5                        어디서?  여성  20대    2번\n",
       "...     ..                         ...  ..  ...   ...\n",
       "127160   8       나두 피부샵 가서 전신마사지 받고 싶어  여성  30대    2번\n",
       "127161   9           요즘은 조금씩 보톡스 잘 맞더라  여성  40대    3번\n",
       "127162  10  지금부터라도 관리해야 오십되어서 후회 안 하겠지  여성  40대    1번\n",
       "127163  11  얼마전에 개원한 곳에서 보톡스 세일 전단지 봤어  여성  30대    2번\n",
       "127164  12    천리 길도 한 걸음부터 꾸준히 해야겠지 뭐든  여성  40대    3번\n",
       "\n",
       "[127165 rows x 5 columns]"
      ]
     },
     "execution_count": 4,
     "metadata": {},
     "output_type": "execute_result"
    }
   ],
   "source": [
    "data = []\n",
    "\n",
    "for z in range(len(json_file_list)):\n",
    "    facebook_data_path = os.path.join(facebook_path, json_file_list[z])\n",
    "    with open(facebook_data_path, 'r', encoding='UTF-8') as j:\n",
    "        contents = json.loads(j.read())\n",
    "    for i in range(len(contents['info'][0]['annotations']['lines'])):\n",
    "        data.append({'id': contents['info'][0]['annotations']['lines'][i]['id'],\n",
    "                    'text': contents['info'][0]['annotations']['lines'][i]['norm_text'],\n",
    "                    'sex': contents['info'][0]['annotations']['lines'][i]['speaker']['sex'],\n",
    "                    'age': contents['info'][0]['annotations']['lines'][i]['speaker']['age'],\n",
    "                    'class': contents['info'][0]['annotations']['lines'][i]['speaker']['id']})\n",
    "df = pd.DataFrame(data)\n",
    "df\n"
   ]
  },
  {
   "cell_type": "code",
   "execution_count": null,
   "metadata": {},
   "outputs": [],
   "source": []
  }
 ],
 "metadata": {
  "kernelspec": {
   "display_name": "venv",
   "language": "python",
   "name": "python3"
  },
  "language_info": {
   "codemirror_mode": {
    "name": "ipython",
    "version": 3
   },
   "file_extension": ".py",
   "mimetype": "text/x-python",
   "name": "python",
   "nbconvert_exporter": "python",
   "pygments_lexer": "ipython3",
   "version": "3.9.13"
  },
  "orig_nbformat": 4,
  "vscode": {
   "interpreter": {
    "hash": "7409877075998b40c7f75e9adac75e1ccf121f4a98cd2e57d4ea6d51ec765852"
   }
  }
 },
 "nbformat": 4,
 "nbformat_minor": 2
}
