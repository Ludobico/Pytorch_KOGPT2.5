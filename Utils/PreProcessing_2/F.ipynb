{
 "cells": [
  {
   "cell_type": "code",
   "execution_count": 1,
   "metadata": {},
   "outputs": [],
   "source": [
    "import os\n",
    "import pandas as pd\n",
    "import numpy as np\n",
    "import json"
   ]
  },
  {
   "cell_type": "code",
   "execution_count": 8,
   "metadata": {},
   "outputs": [],
   "source": [
    "cur_path = os.path.abspath(os.path.curdir)\n",
    "parent_path = os.path.join(cur_path, '..', '..')\n",
    "data_path = os.path.join(parent_path, 'data')\n",
    "kakao1_path = os.path.join(data_path, 'KAKAO_1')\n"
   ]
  },
  {
   "cell_type": "code",
   "execution_count": 9,
   "metadata": {},
   "outputs": [
    {
     "name": "stdout",
     "output_type": "stream",
     "text": [
      "c:\\Users\\aqs45\\OneDrive\\바탕 화면\\repo\\Transformers\\Utils\\PreProcessing_2\\..\\..\\data\\KAKAO_1\n"
     ]
    }
   ],
   "source": [
    "print(kakao1_path)\n"
   ]
  },
  {
   "cell_type": "code",
   "execution_count": 13,
   "metadata": {},
   "outputs": [
    {
     "name": "stdout",
     "output_type": "stream",
     "text": [
      "17999\n"
     ]
    }
   ],
   "source": [
    "json_file_list = os.listdir(kakao1_path)\n",
    "print(len(json_file_list))\n"
   ]
  },
  {
   "cell_type": "code",
   "execution_count": 33,
   "metadata": {},
   "outputs": [
    {
     "ename": "IndexError",
     "evalue": "list index out of range",
     "output_type": "error",
     "traceback": [
      "\u001b[1;31m---------------------------------------------------------------------------\u001b[0m",
      "\u001b[1;31mIndexError\u001b[0m                                Traceback (most recent call last)",
      "Cell \u001b[1;32mIn[33], line 12\u001b[0m\n\u001b[0;32m     10\u001b[0m contents \u001b[39m=\u001b[39m json\u001b[39m.\u001b[39mload(f)\n\u001b[0;32m     11\u001b[0m condition1 \u001b[39m=\u001b[39m contents[\u001b[39m'\u001b[39m\u001b[39minfo\u001b[39m\u001b[39m'\u001b[39m][\u001b[39m0\u001b[39m][\u001b[39m'\u001b[39m\u001b[39mannotations\u001b[39m\u001b[39m'\u001b[39m][\u001b[39m'\u001b[39m\u001b[39mspeaker_type\u001b[39m\u001b[39m'\u001b[39m]\n\u001b[1;32m---> 12\u001b[0m condition2 \u001b[39m=\u001b[39m contents[\u001b[39m'\u001b[39;49m\u001b[39minfo\u001b[39;49m\u001b[39m'\u001b[39;49m][\u001b[39m0\u001b[39;49m][\u001b[39m'\u001b[39;49m\u001b[39mannotations\u001b[39;49m\u001b[39m'\u001b[39;49m][\u001b[39m'\u001b[39;49m\u001b[39mlines\u001b[39;49m\u001b[39m'\u001b[39;49m][\u001b[39m1\u001b[39;49m][\u001b[39m'\u001b[39m\u001b[39mspeaker\u001b[39m\u001b[39m'\u001b[39m][\u001b[39m'\u001b[39m\u001b[39msex\u001b[39m\u001b[39m'\u001b[39m]\n\u001b[0;32m     13\u001b[0m condition3 \u001b[39m=\u001b[39m contents[\u001b[39m'\u001b[39m\u001b[39minfo\u001b[39m\u001b[39m'\u001b[39m][\u001b[39m0\u001b[39m][\u001b[39m'\u001b[39m\u001b[39mannotations\u001b[39m\u001b[39m'\u001b[39m][\u001b[39m'\u001b[39m\u001b[39mlines\u001b[39m\u001b[39m'\u001b[39m][\u001b[39m1\u001b[39m][\u001b[39m'\u001b[39m\u001b[39mspeaker\u001b[39m\u001b[39m'\u001b[39m][\u001b[39m'\u001b[39m\u001b[39mage\u001b[39m\u001b[39m'\u001b[39m]\n\u001b[0;32m     15\u001b[0m \u001b[39mif\u001b[39;00m condition1 \u001b[39m==\u001b[39m \u001b[39m\"\u001b[39m\u001b[39m1:1\u001b[39m\u001b[39m\"\u001b[39m \u001b[39mand\u001b[39;00m condition2 \u001b[39m==\u001b[39m \u001b[39m\"\u001b[39m\u001b[39m여성\u001b[39m\u001b[39m\"\u001b[39m \u001b[39mand\u001b[39;00m condition3 \u001b[39m==\u001b[39m \u001b[39m\"\u001b[39m\u001b[39m20대\u001b[39m\u001b[39m\"\u001b[39m:\n",
      "\u001b[1;31mIndexError\u001b[0m: list index out of range"
     ]
    }
   ],
   "source": [
    "chatdata = []\n",
    "\n",
    "# for i in range(len(json_file_list)):\n",
    "#     kakao1_path_data_path = os.path.join(kakao1_path, json_file_list[i])\n",
    "#     print(kakao1_path_data_path)\n",
    "\n",
    "for i in range(len(json_file_list)):\n",
    "    kakao1_path_data_path = os.path.join(kakao1_path, json_file_list[i])\n",
    "    with open(kakao1_path_data_path, 'r', encoding='UTF-8') as f:\n",
    "        contents = json.load(f)\n",
    "        condition1 = contents['info'][0]['annotations']['speaker_type']\n",
    "        condition2 = contents['info'][0]['annotations']['lines'][1]['speaker']['sex']\n",
    "        condition3 = contents['info'][0]['annotations']['lines'][1]['speaker']['age']\n",
    "\n",
    "        if condition1 == \"1:1\" and condition2 == \"여성\" and condition3 == \"20대\":\n",
    "            with open(kakao1_path_data_path, 'r', encoding='UTF-8') as target_file:\n",
    "                for i in range(len(contents['info'][0]['annotations']['lines'])):\n",
    "                    chatdata.append({'id': contents['info'][0]['annotations']['lines'][i]['id'],\n",
    "                                'text': contents['info'][0]['annotations']['lines'][i]['norm_text'],\n",
    "                                'sex': contents['info'][0]['annotations']['lines'][i]['speaker']['sex'],\n",
    "                                'age': contents['info'][0]['annotations']['lines'][i]['speaker']['age'],\n",
    "                                'class': contents['info'][0]['annotations']['lines'][i]['speaker']['id']})\n",
    "df = pd.DataFrame(chatdata)\n",
    "df\n",
    "\n"
   ]
  },
  {
   "cell_type": "code",
   "execution_count": null,
   "metadata": {},
   "outputs": [],
   "source": []
  }
 ],
 "metadata": {
  "kernelspec": {
   "display_name": "venv",
   "language": "python",
   "name": "python3"
  },
  "language_info": {
   "codemirror_mode": {
    "name": "ipython",
    "version": 3
   },
   "file_extension": ".py",
   "mimetype": "text/x-python",
   "name": "python",
   "nbconvert_exporter": "python",
   "pygments_lexer": "ipython3",
   "version": "3.9.13"
  },
  "orig_nbformat": 4
 },
 "nbformat": 4,
 "nbformat_minor": 2
}
