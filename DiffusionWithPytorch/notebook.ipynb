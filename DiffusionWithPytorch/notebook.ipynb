{
 "cells": [
  {
   "cell_type": "code",
   "execution_count": 1,
   "metadata": {},
   "outputs": [],
   "source": [
    "import torch\n",
    "device = 'cuda' if torch.cuda.is_available() else 'cpu'"
   ]
  },
  {
   "cell_type": "code",
   "execution_count": 10,
   "metadata": {},
   "outputs": [
    {
     "name": "stdout",
     "output_type": "stream",
     "text": [
      "tensor(3., dtype=torch.float16, requires_grad=True)\n"
     ]
    }
   ],
   "source": [
    "x = torch.tensor(3.0, requires_grad=True, dtype=torch.float16)\n",
    "print(x)"
   ]
  },
  {
   "cell_type": "code",
   "execution_count": 15,
   "metadata": {},
   "outputs": [
    {
     "name": "stdout",
     "output_type": "stream",
     "text": [
      "tensor(9., dtype=torch.float16, grad_fn=<PowBackward0>)\n"
     ]
    }
   ],
   "source": [
    "def f(x):\n",
    "    return x**2\n",
    "\n",
    "result_f = f(x)\n",
    "print(result_f)"
   ]
  },
  {
   "cell_type": "code",
   "execution_count": 16,
   "metadata": {},
   "outputs": [
    {
     "name": "stdout",
     "output_type": "stream",
     "text": [
      "tensor(9., dtype=torch.float16, grad_fn=<PowBackward0>)\n"
     ]
    }
   ],
   "source": [
    "result_f.backward()\n",
    "print(result_f)"
   ]
  },
  {
   "cell_type": "code",
   "execution_count": 17,
   "metadata": {},
   "outputs": [
    {
     "name": "stdout",
     "output_type": "stream",
     "text": [
      "tensor(6., dtype=torch.float16)\n",
      "6.0\n"
     ]
    }
   ],
   "source": [
    "result_df = x.grad\n",
    "print(result_df)\n",
    "print(result_df.item())"
   ]
  },
  {
   "cell_type": "code",
   "execution_count": 18,
   "metadata": {},
   "outputs": [
    {
     "name": "stdout",
     "output_type": "stream",
     "text": [
      "36.0\n"
     ]
    }
   ],
   "source": [
    "print(result_df.pow(2).item())"
   ]
  },
  {
   "cell_type": "code",
   "execution_count": 4,
   "metadata": {},
   "outputs": [
    {
     "name": "stdout",
     "output_type": "stream",
     "text": [
      "f'(x)의 결과: 33.00001000638986\n"
     ]
    }
   ],
   "source": [
    "def f(x):\n",
    "    return x ** 3 + x ** 2 + 5\n",
    "\n",
    "# 함수 f(x)의 미분 구현\n",
    "def df(x):\n",
    "    h = 1e-6  # 매우 작은 값을 h로 사용합니다\n",
    "    return (f(x + h) - f(x)) / h\n",
    "\n",
    "# 예시 입력값\n",
    "x = 3\n",
    "\n",
    "# x=3에서의 함수 f(x)의 미분값 출력\n",
    "result_df = df(x)\n",
    "print(\"f'(x)의 결과:\", result_df)  # 출력 결과: 6.000001"
   ]
  },
  {
   "cell_type": "code",
   "execution_count": null,
   "metadata": {},
   "outputs": [],
   "source": []
  }
 ],
 "metadata": {
  "kernelspec": {
   "display_name": "bgr_info",
   "language": "python",
   "name": "python3"
  },
  "language_info": {
   "codemirror_mode": {
    "name": "ipython",
    "version": 3
   },
   "file_extension": ".py",
   "mimetype": "text/x-python",
   "name": "python",
   "nbconvert_exporter": "python",
   "pygments_lexer": "ipython3",
   "version": "3.9.16"
  },
  "orig_nbformat": 4
 },
 "nbformat": 4,
 "nbformat_minor": 2
}
